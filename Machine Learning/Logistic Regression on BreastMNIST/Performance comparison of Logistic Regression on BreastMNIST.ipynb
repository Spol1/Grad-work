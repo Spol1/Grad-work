{
 "cells": [
  {
   "cell_type": "markdown",
   "id": "8ef44833",
   "metadata": {},
   "source": [
    "### Performance comparison of Logistic Regression on BreastMNIST"
   ]
  },
  {
   "cell_type": "markdown",
   "id": "e0e2b663",
   "metadata": {},
   "source": [
    "Imports & Reproducibility"
   ]
  },
  {
   "cell_type": "code",
   "execution_count": 1,
   "id": "348cfc0a",
   "metadata": {},
   "outputs": [
    {
     "data": {
      "text/plain": [
       "<torch._C.Generator at 0x2271da87fd0>"
      ]
     },
     "execution_count": 1,
     "metadata": {},
     "output_type": "execute_result"
    }
   ],
   "source": [
    "#imports\n",
    "import time\n",
    "import numpy as np\n",
    "import pandas as pd\n",
    "import matplotlib.pyplot as plt\n",
    "from itertools import count\n",
    "\n",
    "import medmnist\n",
    "from medmnist import INFO, Evaluator\n",
    "\n",
    "from sklearn.preprocessing import StandardScaler\n",
    "from sklearn.linear_model import LogisticRegression\n",
    "from sklearn.model_selection import PredefinedSplit\n",
    "from sklearn.model_selection import GridSearchCV\n",
    "from sklearn.metrics import mean_squared_error\n",
    "from sklearn.metrics import accuracy_score\n",
    "from sklearn.decomposition import PCA\n",
    "from sklearn.cluster import SpectralClustering\n",
    "\n",
    "import torch\n",
    "import torch.nn as nn\n",
    "import torch.nn.functional as F\n",
    "import torch.utils.data as data\n",
    "from torch.autograd import Variable\n",
    "import torch.optim as optim\n",
    "\n",
    "import torchvision\n",
    "from torchvision import datasets, transforms\n",
    "\n",
    "#Setting Random Seed\n",
    "np.random.seed(12345) \n",
    "torch.manual_seed(12345)"
   ]
  },
  {
   "cell_type": "markdown",
   "id": "b789781b",
   "metadata": {},
   "source": [
    "#### Importing the data"
   ]
  },
  {
   "cell_type": "markdown",
   "id": "e8e4721f",
   "metadata": {},
   "source": [
    "Follow instructions at https://github.com/MedMNIST/MedMNIST to download and load the data.\n",
    "Display at least ten images for each class for each train test and validation set."
   ]
  },
  {
   "cell_type": "code",
   "execution_count": 2,
   "id": "2ed2ed77",
   "metadata": {},
   "outputs": [
    {
     "name": "stdout",
     "output_type": "stream",
     "text": [
      "Using downloaded and verified file: C:\\Users\\svpol\\.medmnist\\breastmnist.npz\n",
      "Using downloaded and verified file: C:\\Users\\svpol\\.medmnist\\breastmnist.npz\n",
      "Using downloaded and verified file: C:\\Users\\svpol\\.medmnist\\breastmnist.npz\n",
      "Images classified as normal and benign from Training set\n"
     ]
    },
    {
     "data": {
      "image/png": "[encoded data removed]",
      "text/plain": [
       "<PIL.Image.Image image mode=L size=28x28 at 0x227182E4400>"
      ]
     },
     "metadata": {},
     "output_type": "display_data"
    },
    {
     "data": {
      "image/png": "[encoded data removed]",
      "text/plain": [
       "<PIL.Image.Image image mode=L size=28x28 at 0x2272228B790>"
      ]
     },
     "metadata": {},
     "output_type": "display_data"
    },
    {
     "data": {
      "image/png": "[encoded data removed]",
      "text/plain": [
       "<PIL.Image.Image image mode=L size=28x28 at 0x227182E4400>"
      ]
     },
     "metadata": {},
     "output_type": "display_data"
    },
    {
     "data": {
      "image/png": "[encoded data removed]",
      "text/plain": [
       "<PIL.Image.Image image mode=L size=28x28 at 0x2272228B790>"
      ]
     },
     "metadata": {},
     "output_type": "display_data"
    },
    {
     "data": {
      "image/png": "[encoded data removed]",
      "text/plain": [
       "<PIL.Image.Image image mode=L size=28x28 at 0x2272228B790>"
      ]
     },
     "metadata": {},
     "output_type": "display_data"
    },
    {
     "data": {
      "image/png": "[encoded data removed]",
      "text/plain": [
       "<PIL.Image.Image image mode=L size=28x28 at 0x227182E4400>"
      ]
     },
     "metadata": {},
     "output_type": "display_data"
    },
    {
     "data": {
      "image/png": "[encoded data removed]",
      "text/plain": [
       "<PIL.Image.Image image mode=L size=28x28 at 0x2272228B790>"
      ]
     },
     "metadata": {},
     "output_type": "display_data"
    },
    {
     "data": {
      "image/png": "[encoded data removed]",
      "text/plain": [
       "<PIL.Image.Image image mode=L size=28x28 at 0x2272228B790>"
      ]
     },
     "metadata": {},
     "output_type": "display_data"
    },
    {
     "data": {
      "image/png": "[encoded data removed]",
      "text/plain": [
       "<PIL.Image.Image image mode=L size=28x28 at 0x227182E4400>"
      ]
     },
     "metadata": {},
     "output_type": "display_data"
    },
    {
     "data": {
      "image/png": "[encoded data removed]",
      "text/plain": [
       "<PIL.Image.Image image mode=L size=28x28 at 0x2272228B790>"
      ]
     },
     "metadata": {},
     "output_type": "display_data"
    },
    {
     "name": "stdout",
     "output_type": "stream",
     "text": [
      "Images classified as malignant from Training set\n"
     ]
    },
    {
     "data": {
      "image/png": "[encoded data removed]",
      "text/plain": [
       "<PIL.Image.Image image mode=L size=28x28 at 0x2272228B790>"
      ]
     },
     "metadata": {},
     "output_type": "display_data"
    },
    {
     "data": {
      "image/png": "[encoded data removed]",
      "text/plain": [
       "<PIL.Image.Image image mode=L size=28x28 at 0x2272228B790>"
      ]
     },
     "metadata": {},
     "output_type": "display_data"
    },
    {
     "data": {
      "image/png": "[encoded data removed]",
      "text/plain": [
       "<PIL.Image.Image image mode=L size=28x28 at 0x2272228B790>"
      ]
     },
     "metadata": {},
     "output_type": "display_data"
    },
    {
     "data": {
      "image/png": "[encoded data removed]",
      "text/plain": [
       "<PIL.Image.Image image mode=L size=28x28 at 0x2272228B790>"
      ]
     },
     "metadata": {},
     "output_type": "display_data"
    },
    {
     "data": {
      "image/png": "[encoded data removed]",
      "text/plain": [
       "<PIL.Image.Image image mode=L size=28x28 at 0x2272228B790>"
      ]
     },
     "metadata": {},
     "output_type": "display_data"
    },
    {
     "data": {
      "image/png": "[encoded data removed]",
      "text/plain": [
       "<PIL.Image.Image image mode=L size=28x28 at 0x2272228BF10>"
      ]
     },
     "metadata": {},
     "output_type": "display_data"
    },
    {
     "data": {
      "image/png": "[encoded data removed]",
      "text/plain": [
       "<PIL.Image.Image image mode=L size=28x28 at 0x2272228B790>"
      ]
     },
     "metadata": {},
     "output_type": "display_data"
    },
    {
     "data": {
      "image/png": "[encoded data removed]",
      "text/plain": [
       "<PIL.Image.Image image mode=L size=28x28 at 0x2272228BF10>"
      ]
     },
     "metadata": {},
     "output_type": "display_data"
    },
    {
     "data": {
      "image/png": "[encoded data removed]",
      "text/plain": [
       "<PIL.Image.Image image mode=L size=28x28 at 0x2272228B790>"
      ]
     },
     "metadata": {},
     "output_type": "display_data"
    },
    {
     "data": {
      "image/png": "[encoded data removed]",
      "text/plain": [
       "<PIL.Image.Image image mode=L size=28x28 at 0x2272228BF10>"
      ]
     },
     "metadata": {},
     "output_type": "display_data"
    },
    {
     "name": "stdout",
     "output_type": "stream",
     "text": [
      "Images classified as normal and benign from Validation set\n"
     ]
    },
    {
     "data": {
      "image/png": "[encoded data removed]",
      "text/plain": [
       "<PIL.Image.Image image mode=L size=28x28 at 0x227222F86A0>"
      ]
     },
     "metadata": {},
     "output_type": "display_data"
    },
    {
     "data": {
      "image/png": "[encoded data removed]",
      "text/plain": [
       "<PIL.Image.Image image mode=L size=28x28 at 0x2272228BF10>"
      ]
     },
     "metadata": {},
     "output_type": "display_data"
    },
    {
     "data": {
      "image/png": "[encoded data removed]",
      "text/plain": [
       "<PIL.Image.Image image mode=L size=28x28 at 0x2272228BF10>"
      ]
     },
     "metadata": {},
     "output_type": "display_data"
    },
    {
     "data": {
      "image/png": "[encoded data removed]",
      "text/plain": [
       "<PIL.Image.Image image mode=L size=28x28 at 0x2272228BD90>"
      ]
     },
     "metadata": {},
     "output_type": "display_data"
    },
    {
     "data": {
      "image/png": "[encoded data removed]",
      "text/plain": [
       "<PIL.Image.Image image mode=L size=28x28 at 0x2272228BF10>"
      ]
     },
     "metadata": {},
     "output_type": "display_data"
    },
    {
     "data": {
      "image/png": "[encoded data removed]",
      "text/plain": [
       "<PIL.Image.Image image mode=L size=28x28 at 0x2272228BD90>"
      ]
     },
     "metadata": {},
     "output_type": "display_data"
    },
    {
     "data": {
      "image/png": "[encoded data removed]",
      "text/plain": [
       "<PIL.Image.Image image mode=L size=28x28 at 0x2272228BF10>"
      ]
     },
     "metadata": {},
     "output_type": "display_data"
    },
    {
     "data": {
      "image/png": "[encoded data removed]",
      "text/plain": [
       "<PIL.Image.Image image mode=L size=28x28 at 0x2272228BD90>"
      ]
     },
     "metadata": {},
     "output_type": "display_data"
    },
    {
     "data": {
      "image/png": "[encoded data removed]",
      "text/plain": [
       "<PIL.Image.Image image mode=L size=28x28 at 0x2272228BF10>"
      ]
     },
     "metadata": {},
     "output_type": "display_data"
    },
    {
     "data": {
      "image/png": "[encoded data removed]",
      "text/plain": [
       "<PIL.Image.Image image mode=L size=28x28 at 0x2272228BF10>"
      ]
     },
     "metadata": {},
     "output_type": "display_data"
    },
    {
     "name": "stdout",
     "output_type": "stream",
     "text": [
      "Images classified as malignant from Validation set\n"
     ]
    },
    {
     "data": {
      "image/png": "[encoded data removed]",
      "text/plain": [
       "<PIL.Image.Image image mode=L size=28x28 at 0x2272228BF10>"
      ]
     },
     "metadata": {},
     "output_type": "display_data"
    },
    {
     "data": {
      "image/png": "[encoded data removed]",
      "text/plain": [
       "<PIL.Image.Image image mode=L size=28x28 at 0x2272228BE50>"
      ]
     },
     "metadata": {},
     "output_type": "display_data"
    },
    {
     "data": {
      "image/png": "[encoded data removed]",
      "text/plain": [
       "<PIL.Image.Image image mode=L size=28x28 at 0x2272228BE50>"
      ]
     },
     "metadata": {},
     "output_type": "display_data"
    },
    {
     "data": {
      "image/png": "[encoded data removed]",
      "text/plain": [
       "<PIL.Image.Image image mode=L size=28x28 at 0x2272228BF10>"
      ]
     },
     "metadata": {},
     "output_type": "display_data"
    },
    {
     "data": {
      "image/png": "[encoded data removed]",
      "text/plain": [
       "<PIL.Image.Image image mode=L size=28x28 at 0x2272228BF10>"
      ]
     },
     "metadata": {},
     "output_type": "display_data"
    },
    {
     "data": {
      "image/png": "[encoded data removed]",
      "text/plain": [
       "<PIL.Image.Image image mode=L size=28x28 at 0x2272228BF10>"
      ]
     },
     "metadata": {},
     "output_type": "display_data"
    },
    {
     "data": {
      "image/png": "[encoded data removed]",
      "text/plain": [
       "<PIL.Image.Image image mode=L size=28x28 at 0x2272228BF10>"
      ]
     },
     "metadata": {},
     "output_type": "display_data"
    },
    {
     "data": {
      "image/png": "[encoded data removed]",
      "text/plain": [
       "<PIL.Image.Image image mode=L size=28x28 at 0x2272228BF10>"
      ]
     },
     "metadata": {},
     "output_type": "display_data"
    },
    {
     "data": {
      "image/png": "[encoded data removed]",
      "text/plain": [
       "<PIL.Image.Image image mode=L size=28x28 at 0x2272228BF10>"
      ]
     },
     "metadata": {},
     "output_type": "display_data"
    },
    {
     "data": {
      "image/png": "[encoded data removed]",
      "text/plain": [
       "<PIL.Image.Image image mode=L size=28x28 at 0x2272228BE50>"
      ]
     },
     "metadata": {},
     "output_type": "display_data"
    },
    {
     "name": "stdout",
     "output_type": "stream",
     "text": [
      "Images classified as normal and benign from Test set\n"
     ]
    },
    {
     "data": {
      "image/png": "[encoded data removed]",
      "text/plain": [
       "<PIL.Image.Image image mode=L size=28x28 at 0x227222F84C0>"
      ]
     },
     "metadata": {},
     "output_type": "display_data"
    },
    {
     "data": {
      "image/png": "[encoded data removed]",
      "text/plain": [
       "<PIL.Image.Image image mode=L size=28x28 at 0x2272228BE50>"
      ]
     },
     "metadata": {},
     "output_type": "display_data"
    },
    {
     "data": {
      "image/png": "[encoded data removed]",
      "text/plain": [
       "<PIL.Image.Image image mode=L size=28x28 at 0x2272228B7C0>"
      ]
     },
     "metadata": {},
     "output_type": "display_data"
    },
    {
     "data": {
      "image/png": "[encoded data removed]",
      "text/plain": [
       "<PIL.Image.Image image mode=L size=28x28 at 0x2272228BE50>"
      ]
     },
     "metadata": {},
     "output_type": "display_data"
    },
    {
     "data": {
      "image/png": "[encoded data removed]",
      "text/plain": [
       "<PIL.Image.Image image mode=L size=28x28 at 0x2272228B7C0>"
      ]
     },
     "metadata": {},
     "output_type": "display_data"
    },
    {
     "data": {
      "image/png": "[encoded data removed]",
      "text/plain": [
       "<PIL.Image.Image image mode=L size=28x28 at 0x2272228BE50>"
      ]
     },
     "metadata": {},
     "output_type": "display_data"
    },
    {
     "data": {
      "image/png": "[encoded data removed]",
      "text/plain": [
       "<PIL.Image.Image image mode=L size=28x28 at 0x2272228B7C0>"
      ]
     },
     "metadata": {},
     "output_type": "display_data"
    },
    {
     "data": {
      "image/png": "[encoded data removed]",
      "text/plain": [
       "<PIL.Image.Image image mode=L size=28x28 at 0x2272228BE50>"
      ]
     },
     "metadata": {},
     "output_type": "display_data"
    },
    {
     "data": {
      "image/png": "[encoded data removed]",
      "text/plain": [
       "<PIL.Image.Image image mode=L size=28x28 at 0x2272228BE50>"
      ]
     },
     "metadata": {},
     "output_type": "display_data"
    },
    {
     "data": {
      "image/png": "[encoded data removed]",
      "text/plain": [
       "<PIL.Image.Image image mode=L size=28x28 at 0x2272228BE50>"
      ]
     },
     "metadata": {},
     "output_type": "display_data"
    },
    {
     "name": "stdout",
     "output_type": "stream",
     "text": [
      "Images classified as malignant from Test set\n"
     ]
    },
    {
     "data": {
      "image/png": "[encoded data removed]",
      "text/plain": [
       "<PIL.Image.Image image mode=L size=28x28 at 0x2272228BE50>"
      ]
     },
     "metadata": {},
     "output_type": "display_data"
    },
    {
     "data": {
      "image/png": "[encoded data removed]",
      "text/plain": [
       "<PIL.Image.Image image mode=L size=28x28 at 0x2272228BE50>"
      ]
     },
     "metadata": {},
     "output_type": "display_data"
    },
    {
     "data": {
      "image/png": "[encoded data removed]",
      "text/plain": [
       "<PIL.Image.Image image mode=L size=28x28 at 0x2272228BF10>"
      ]
     },
     "metadata": {},
     "output_type": "display_data"
    },
    {
     "data": {
      "image/png": "[encoded data removed]",
      "text/plain": [
       "<PIL.Image.Image image mode=L size=28x28 at 0x2272228BE50>"
      ]
     },
     "metadata": {},
     "output_type": "display_data"
    },
    {
     "data": {
      "image/png": "[encoded data removed]",
      "text/plain": [
       "<PIL.Image.Image image mode=L size=28x28 at 0x2272228BF10>"
      ]
     },
     "metadata": {},
     "output_type": "display_data"
    },
    {
     "data": {
      "image/png": "[encoded data removed]",
      "text/plain": [
       "<PIL.Image.Image image mode=L size=28x28 at 0x2272228BF10>"
      ]
     },
     "metadata": {},
     "output_type": "display_data"
    },
    {
     "data": {
      "image/png": "[encoded data removed]",
      "text/plain": [
       "<PIL.Image.Image image mode=L size=28x28 at 0x2272228BF10>"
      ]
     },
     "metadata": {},
     "output_type": "display_data"
    },
    {
     "data": {
      "image/png": "[encoded data removed]",
      "text/plain": [
       "<PIL.Image.Image image mode=L size=28x28 at 0x2272228BE50>"
      ]
     },
     "metadata": {},
     "output_type": "display_data"
    },
    {
     "data": {
      "image/png": "[encoded data removed]",
      "text/plain": [
       "<PIL.Image.Image image mode=L size=28x28 at 0x2272228BF10>"
      ]
     },
     "metadata": {},
     "output_type": "display_data"
    },
    {
     "data": {
      "image/png": "[encoded data removed]",
      "text/plain": [
       "<PIL.Image.Image image mode=L size=28x28 at 0x2272228BE50>"
      ]
     },
     "metadata": {},
     "output_type": "display_data"
    }
   ],
   "source": [
    "#Function to print images\n",
    "def print_image(dataset,label):\n",
    "    i=0\n",
    "    for img,lbl in dataset:\n",
    "        if lbl == label:\n",
    "            display(img)\n",
    "            i = i+1\n",
    "        if i == 10:\n",
    "            break\n",
    "\n",
    "#load the data\n",
    "DataClass = getattr(medmnist, 'BreastMNIST') #getting_started_without_pytorch on github \n",
    "\n",
    "#import train, test and Val splits for the loaded data\n",
    "train_dataset = DataClass(split='train', download=True)\n",
    "validation_dataset = DataClass(split='val', download=True)\n",
    "test_dataset = DataClass(split='test', download=True)\n",
    "\n",
    "#getting and printing images\n",
    "#Training set\n",
    "print(\"Images classified as normal and benign from Training set\")\n",
    "print_image(train_dataset,1)\n",
    "print(\"Images classified as malignant from Training set\")\n",
    "print_image(train_dataset,0)\n",
    "\n",
    "#Validation set\n",
    "print(\"Images classified as normal and benign from Validation set\")\n",
    "print_image(validation_dataset,1)\n",
    "print(\"Images classified as malignant from Validation set\")\n",
    "print_image(validation_dataset,0)\n",
    "\n",
    "#Test set\n",
    "print(\"Images classified as normal and benign from Test set\")\n",
    "print_image(test_dataset,1)\n",
    "print(\"Images classified as malignant from Test set\")\n",
    "print_image(test_dataset,0)"
   ]
  },
  {
   "cell_type": "markdown",
   "id": "7a4c3a98",
   "metadata": {},
   "source": [
    "Keep a record of the three metrics M1 to M3 below for the two models below:\n",
    "M1) Training accuracy: the prediction accuracy of a trained model on the training dataset.\n",
    "M2) Validation accuracy: the prediction accuracy of a trained model on the validation dataset.\n",
    "M3) Testing accuracy: the prediction accuracy of a trained model on the test dataset."
   ]
  },
  {
   "cell_type": "markdown",
   "id": "894429b8",
   "metadata": {},
   "source": [
    "Using the built-in logistic regression functions in scikit-learn, train a logistic regression model\n",
    "with L2 regularisation on the training set, use the validation set to choose a good regularisation\n",
    "parameter (a hyperparameter) from at least three choices, and test the chosen model on the\n",
    "test set. Report the three metrics M1 to M3."
   ]
  },
  {
   "cell_type": "code",
   "execution_count": 10,
   "id": "f4e55932",
   "metadata": {},
   "outputs": [],
   "source": [
    "#Initialize Variables to hold accuracy data\n",
    "M1 = {}\n",
    "M2 = {}\n",
    "M3 = {}\n",
    "\n",
    "#function to transform 3D array to a 2D array\n",
    "def transform_3d_2d(dataset):\n",
    "    n, n1, n2 = dataset.shape\n",
    "    dataset_2d = dataset.reshape((n,n1*n2))\n",
    "    return dataset_2d\n",
    "\n",
    "#transform train,val and test datasets to 2D\n",
    "train_dataset_2d = transform_3d_2d(train_dataset.imgs.copy())\n",
    "validation_dataset_2d = transform_3d_2d(validation_dataset.imgs.copy())\n",
    "test_dataset_2d = transform_3d_2d(test_dataset.imgs.copy())\n",
    "\n",
    "#fit the standard scaler over training data \n",
    "scaler = StandardScaler().fit(train_dataset_2d)\n",
    "\n",
    "#transform the training test and validation data\n",
    "train_dataset_2d_std = scaler.transform(train_dataset_2d.copy())\n",
    "validation_dataset_2d_std = scaler.transform(validation_dataset_2d.copy())\n",
    "test_dataset_2d_std = scaler.transform(test_dataset_2d.copy())\n",
    "\n",
    "#Create a list of 10 Regularization Parameters\n",
    "regularization_parameter = list(np.logspace(start =-3, stop = -0.01, num = 10))"
   ]
  },
  {
   "cell_type": "code",
   "execution_count": 4,
   "id": "b2c3274d",
   "metadata": {},
   "outputs": [
    {
     "name": "stdout",
     "output_type": "stream",
     "text": [
      "Training Accuracy : 0.847985347985348\n",
      "Validation Accuracy : 0.8974358974358975\n",
      "Test Accuracy : 0.7948717948717948\n"
     ]
    }
   ],
   "source": [
    "rmse_prev = 100 #initialized to calculate lowest rmse\n",
    "\n",
    "#Iterate over each regularization parameter to get the best parameter for lowest rmse over validation data\n",
    "for param in regularization_parameter:\n",
    "    log_reg = LogisticRegression(penalty='l2',solver='newton-cg',C=param)\n",
    "    log_reg.fit(train_dataset_2d_std,train_dataset.labels.ravel())\n",
    "    predict = log_reg.predict(validation_dataset_2d)\n",
    "    rmse = mean_squared_error(validation_dataset.labels,predict,squared=False)\n",
    "    \n",
    "    if rmse < rmse_prev:\n",
    "        C = param \n",
    "        rmse_prev = rmse\n",
    "\n",
    "#initialize and train the model using the best reg_parameter found in the last step\n",
    "log_reg = LogisticRegression(penalty='l2',solver='newton-cg',C=C)\n",
    "log_reg.fit(train_dataset_2d_std,train_dataset.labels.ravel())\n",
    "\n",
    "#function to get get accuracy over a set\n",
    "def get_metrics(dataset,labels):\n",
    "    predict = log_reg.predict(dataset)\n",
    "    accuracy = accuracy_score(labels,predict)\n",
    "    return accuracy\n",
    "    \n",
    "#get and store the 3 Accuracies\n",
    "M1['b1a'] = get_metrics(train_dataset_2d_std,train_dataset.labels)\n",
    "M2['b1a'] = get_metrics(validation_dataset_2d,validation_dataset.labels)\n",
    "M3['b1a'] = get_metrics(test_dataset_2d,test_dataset.labels)\n",
    "\n",
    "print(f\"Training Accuracy : {M1['b1a']}\\nValidation Accuracy : {M2['b1a']}\\nTest Accuracy : {M3['b1a']}\")"
   ]
  },
  {
   "cell_type": "markdown",
   "id": "767a3834",
   "metadata": {},
   "source": [
    "Using PyTorch, train a logistic regression model with L2 regularisation on the training set, use the validation set to choose a good regularisation parameter (a hyperparameter) from at least three choices, and test the chosen model on the test set. Report the three metrics M1 to M3"
   ]
  },
  {
   "cell_type": "code",
   "execution_count": 5,
   "id": "cd60f6b9",
   "metadata": {},
   "outputs": [],
   "source": [
    "#Define Logistic regression class\n",
    "class LogisticRegression(torch.nn.Module):\n",
    "    def __init__(self, input_dim, output_dim):\n",
    "        super(LogisticRegression, self).__init__()\n",
    "        self.linear = torch.nn.Linear(input_dim, output_dim)\n",
    "        \n",
    "    def forward(self, x):\n",
    "        outputs = torch.sigmoid(self.linear(x))\n",
    "        return outputs"
   ]
  },
  {
   "cell_type": "code",
   "execution_count": 6,
   "id": "5192bac6",
   "metadata": {},
   "outputs": [],
   "source": [
    "#convert data and labels into tensors\n",
    "X_train = torch.Tensor(train_dataset_2d_std.copy())\n",
    "X_Val = torch.Tensor(validation_dataset_2d_std.copy())\n",
    "X_test = torch.Tensor(test_dataset_2d_std.copy())\n",
    "\n",
    "y_train = torch.Tensor(train_dataset.labels.reshape(-1))\n",
    "y_Val = torch.Tensor(validation_dataset.labels.reshape(-1))\n",
    "y_test = torch.Tensor(test_dataset.labels.reshape(-1))"
   ]
  },
  {
   "cell_type": "code",
   "execution_count": 7,
   "id": "0f4a823e",
   "metadata": {
    "scrolled": true
   },
   "outputs": [
    {
     "name": "stdout",
     "output_type": "stream",
     "text": [
      "Training Accuracy : 0.9102564102564102\n",
      "Validation Accuracy  : 0.8717948717948718\n",
      "Test Accuracy : 0.8076923076923077\n"
     ]
    }
   ],
   "source": [
    "#create a list of 10 Regularization paramters\n",
    "regularization_parameter = list(np.logspace(start =-3, stop = -0.01, num = 10))\n",
    "\n",
    "#initialize variables for calculation\n",
    "values_train = {}\n",
    "values_test = {}\n",
    "values_Val = {}\n",
    "loss_prev = 0\n",
    "\n",
    "#function for calculating accuracy\n",
    "def calc_acc(X,y,model):\n",
    "    y_pred=(torch.squeeze(model(X)))\n",
    "    y_pred_2 = y_pred.round().detach().numpy()\n",
    "    accuracy=(np.sum(y_pred_2 == y.detach().numpy()))/float(y.shape[0])\n",
    "    return accuracy\n",
    "\n",
    "#Loop to find the train test and validation accuracy over different regularization parameters\n",
    "for weight_decay in regularization_parameter:\n",
    "    model = LogisticRegression(28*28,1)\n",
    "    criterion = torch.nn.BCELoss()\n",
    "    optimizer = torch.optim.SGD(model.parameters(),lr=0.01,weight_decay=weight_decay)\n",
    "    \n",
    "    for _ in count(1):\n",
    "        optimizer.zero_grad() # Setting our stored gradients equal to zero\n",
    "        y_predict = model(X_train) #predict target values \n",
    "        loss = criterion(torch.squeeze(y_predict), y_train) #Calculate loss \n",
    "        loss.backward() # Computes the gradient\n",
    "        optimizer.step() # Updates weights and biases with the optimizer (SGD)\n",
    "        \n",
    "        #Break the loop when loss convergeres\n",
    "        if abs(loss_prev-loss) < 1e-7: \n",
    "            break\n",
    "        loss_prev = loss\n",
    "\n",
    "    with torch.no_grad():\n",
    "        # Calculating the loss and accuracy for the train dataset\n",
    "        values_train[weight_decay] = calc_acc(X_train,y_train,model)\n",
    "        # Calculate the loss and accuracy for the Validation dataset\n",
    "        values_Val[weight_decay] = calc_acc(X_Val,y_Val,model)\n",
    "        # Calculating the loss and accuracy for the test dataset\n",
    "        values_test[weight_decay] = calc_acc(X_test,y_test,model)\n",
    "\n",
    "#Calculate the best regularization parameter in Validation\n",
    "prev_accuracy = 0\n",
    "best_regularization_parameter = 0\n",
    "for r_params in values_Val:\n",
    "    if prev_accuracy < values_Val[r_params]:\n",
    "        prev_accuracy = values_Val[r_params]\n",
    "        best_regularization_parameter = r_params\n",
    "        \n",
    "#Use the best regularization param to get the accuarcy values over train and test\n",
    "M1['b1b'] = values_train[best_regularization_parameter]\n",
    "M2['b1b'] = values_Val[best_regularization_parameter]\n",
    "M3['b1b'] = values_test[best_regularization_parameter]\n",
    "\n",
    "print(f\"Training Accuracy : {M1['b1b']}\\nValidation Accuracy  : {M2['b1b']}\\nTest Accuracy : {M3['b1b']}\")"
   ]
  },
  {
   "cell_type": "markdown",
   "id": "469b7258",
   "metadata": {},
   "source": [
    "#### Performance comparison"
   ]
  },
  {
   "cell_type": "code",
   "execution_count": 8,
   "id": "58230155",
   "metadata": {},
   "outputs": [
    {
     "data": {
      "text/plain": [
       "<matplotlib.legend.Legend at 0x227227f5fd0>"
      ]
     },
     "execution_count": 8,
     "metadata": {},
     "output_type": "execute_result"
    },
    {
     "data": {
      "image/png": "[encoded data removed]",
      "text/plain": [
       "<Figure size 432x432 with 1 Axes>"
      ]
     },
     "metadata": {
      "needs_background": "light"
     },
     "output_type": "display_data"
    }
   ],
   "source": [
    "X_points = np.arange(3)\n",
    "a_data = [M1['b1a'],M2['b1a'],M3['b1a']]\n",
    "b_data = [M1['b1b'],M2['b1b'],M3['b1b']]\n",
    "fig = plt.figure(figsize=(6,6))\n",
    "ax = fig.add_axes([0,0,1,1])\n",
    "ax.bar(X_points, a_data, color = 'b', width = 0.25)\n",
    "ax.bar(X_points+0.25, b_data, color = 'g', width = 0.25)\n",
    "ax.set_ylabel('Accuracy',fontsize=20)\n",
    "ax.set_title(\"Barplot of Metrics M1 M2 and M3 on both models\",fontsize=16)\n",
    "ax.set_xticks(X_points+0.12)\n",
    "ax.set_xticklabels(labels=['Training(M1)','Validation(M2)','Test(M3)'])\n",
    "ax.legend(['SKlearn','Pytorch'],prop={'size': 10})"
   ]
  },
  {
   "cell_type": "markdown",
   "id": "3f2a416e",
   "metadata": {},
   "source": [
    "1. The default lbgs solver/optimizer for the Sklearn logistic regression model wasnt able converge under the default 100 iterations; it took 117. So I expermented with other solvers sag converged after 140 iterations and newton converged after about 47 iterations. Hence in the end I ended up using newton as the solver.\n",
    "2. Although I am using different solver/optimizers for SKlearn(newton-cg) and pytorch(SGD) implementations the accuracy they both give over train and validation data is significantly different but the they give very similar accuracy over test data."
   ]
  },
  {
   "cell_type": "code",
   "execution_count": null,
   "id": "d4acdc19",
   "metadata": {
    "scrolled": true
   },
   "outputs": [],
   "source": []
  }
 ],
 "metadata": {
  "kernelspec": {
   "display_name": "Python 3 (ipykernel)",
   "language": "python",
   "name": "python3"
  },
  "language_info": {
   "codemirror_mode": {
    "name": "ipython",
    "version": 3
   },
   "file_extension": ".py",
   "mimetype": "text/x-python",
   "name": "python",
   "nbconvert_exporter": "python",
   "pygments_lexer": "ipython3",
   "version": "3.9.7"
  }
 },
 "nbformat": 4,
 "nbformat_minor": 5
}
