{
 "cells": [
  {
   "cell_type": "markdown",
   "id": "8ef44833",
   "metadata": {},
   "source": [
    "### Implementing Convolutional Neural Networks on OCTMNIST"
   ]
  },
  {
   "cell_type": "markdown",
   "id": "e0e2b663",
   "metadata": {},
   "source": [
    "Imports & Reproducibility"
   ]
  },
  {
   "cell_type": "code",
   "execution_count": 1,
   "id": "348cfc0a",
   "metadata": {},
   "outputs": [
    {
     "data": {
      "text/plain": [
       "<torch._C.Generator at 0x24896528fd0>"
      ]
     },
     "execution_count": 1,
     "metadata": {},
     "output_type": "execute_result"
    }
   ],
   "source": [
    "#imports\n",
    "import time\n",
    "import numpy as np\n",
    "import pandas as pd\n",
    "import matplotlib.pyplot as plt\n",
    "from itertools import count\n",
    "\n",
    "import medmnist\n",
    "from medmnist import INFO, Evaluator\n",
    "\n",
    "from sklearn.preprocessing import StandardScaler\n",
    "from sklearn.linear_model import LogisticRegression\n",
    "from sklearn.model_selection import PredefinedSplit\n",
    "from sklearn.model_selection import GridSearchCV\n",
    "from sklearn.metrics import mean_squared_error\n",
    "from sklearn.metrics import accuracy_score\n",
    "from sklearn.decomposition import PCA\n",
    "from sklearn.cluster import SpectralClustering\n",
    "\n",
    "import torch\n",
    "import torch.nn as nn\n",
    "import torch.nn.functional as F\n",
    "import torch.utils.data as data\n",
    "from torch.autograd import Variable\n",
    "import torch.optim as optim\n",
    "\n",
    "import torchvision\n",
    "from torchvision import datasets, transforms\n",
    "\n",
    "#Setting Random Seed\n",
    "np.random.seed(12345) \n",
    "torch.manual_seed(12345)"
   ]
  },
  {
   "cell_type": "markdown",
   "id": "37345d83",
   "metadata": {},
   "source": [
    "### Convolutional Neural Networks on OCTMNIST"
   ]
  },
  {
   "cell_type": "markdown",
   "id": "5468e0f9",
   "metadata": {},
   "source": [
    "#### Data loading and inspection\n",
    "- Follow instructions at https://github.com/MedMNIST/MedMNIST to download and load the data.\n",
    "Display at least ten images for each class for each train test and validation set."
   ]
  },
  {
   "cell_type": "code",
   "execution_count": 2,
   "id": "83c9ceb4",
   "metadata": {
    "scrolled": true
   },
   "outputs": [
    {
     "name": "stdout",
     "output_type": "stream",
     "text": [
      "Using downloaded and verified file: C:\\Users\\svpol\\.medmnist\\octmnist.npz\n",
      "Using downloaded and verified file: C:\\Users\\svpol\\.medmnist\\octmnist.npz\n",
      "Using downloaded and verified file: C:\\Users\\svpol\\.medmnist\\octmnist.npz\n",
      "Images classified as choroidal neovascularization from Training set\n"
     ]
    },
    {
     "data": {
      "image/png": "[encoded data removed]",
      "text/plain": [
       "<PIL.Image.Image image mode=L size=28x28 at 0x24890D98520>"
      ]
     },
     "metadata": {},
     "output_type": "display_data"
    },
    {
     "data": {
      "image/png": "[encoded data removed]",
      "text/plain": [
       "<PIL.Image.Image image mode=L size=28x28 at 0x24890D98520>"
      ]
     },
     "metadata": {},
     "output_type": "display_data"
    },
    {
     "data": {
      "image/png": "[encoded data removed]",
      "text/plain": [
       "<PIL.Image.Image image mode=L size=28x28 at 0x2489AD2BC40>"
      ]
     },
     "metadata": {},
     "output_type": "display_data"
    },
    {
     "data": {
      "image/png": "[encoded data removed]",
      "text/plain": [
       "<PIL.Image.Image image mode=L size=28x28 at 0x24890D98520>"
      ]
     },
     "metadata": {},
     "output_type": "display_data"
    },
    {
     "data": {
      "image/png": "[encoded data removed]",
      "text/plain": [
       "<PIL.Image.Image image mode=L size=28x28 at 0x24890DCA340>"
      ]
     },
     "metadata": {},
     "output_type": "display_data"
    },
    {
     "data": {
      "image/png": "[encoded data removed]",
      "text/plain": [
       "<PIL.Image.Image image mode=L size=28x28 at 0x24890DCA340>"
      ]
     },
     "metadata": {},
     "output_type": "display_data"
    },
    {
     "data": {
      "image/png": "[encoded data removed]",
      "text/plain": [
       "<PIL.Image.Image image mode=L size=28x28 at 0x24890D98520>"
      ]
     },
     "metadata": {},
     "output_type": "display_data"
    },
    {
     "data": {
      "image/png": "[encoded data removed]",
      "text/plain": [
       "<PIL.Image.Image image mode=L size=28x28 at 0x24890D98520>"
      ]
     },
     "metadata": {},
     "output_type": "display_data"
    },
    {
     "data": {
      "image/png": "[encoded data removed]",
      "text/plain": [
       "<PIL.Image.Image image mode=L size=28x28 at 0x24890DCA340>"
      ]
     },
     "metadata": {},
     "output_type": "display_data"
    },
    {
     "data": {
      "image/png": "[encoded data removed]",
      "text/plain": [
       "<PIL.Image.Image image mode=L size=28x28 at 0x24890D98520>"
      ]
     },
     "metadata": {},
     "output_type": "display_data"
    },
    {
     "name": "stdout",
     "output_type": "stream",
     "text": [
      "Images classified as diabetic macular edema from Training set\n"
     ]
    },
    {
     "data": {
      "image/png": "[encoded data removed]",
      "text/plain": [
       "<PIL.Image.Image image mode=L size=28x28 at 0x24890D98520>"
      ]
     },
     "metadata": {},
     "output_type": "display_data"
    },
    {
     "data": {
      "image/png": "[encoded data removed]",
      "text/plain": [
       "<PIL.Image.Image image mode=L size=28x28 at 0x24890D98520>"
      ]
     },
     "metadata": {},
     "output_type": "display_data"
    },
    {
     "data": {
      "image/png": "[encoded data removed]",
      "text/plain": [
       "<PIL.Image.Image image mode=L size=28x28 at 0x24890D98E50>"
      ]
     },
     "metadata": {},
     "output_type": "display_data"
    },
    {
     "data": {
      "image/png": "[encoded data removed]",
      "text/plain": [
       "<PIL.Image.Image image mode=L size=28x28 at 0x24890D98520>"
      ]
     },
     "metadata": {},
     "output_type": "display_data"
    },
    {
     "data": {
      "image/png": "[encoded data removed]",
      "text/plain": [
       "<PIL.Image.Image image mode=L size=28x28 at 0x24890D98520>"
      ]
     },
     "metadata": {},
     "output_type": "display_data"
    },
    {
     "data": {
      "image/png": "[encoded data removed]",
      "text/plain": [
       "<PIL.Image.Image image mode=L size=28x28 at 0x24890D98E50>"
      ]
     },
     "metadata": {},
     "output_type": "display_data"
    },
    {
     "data": {
      "image/png": "[encoded data removed]",
      "text/plain": [
       "<PIL.Image.Image image mode=L size=28x28 at 0x24890D98520>"
      ]
     },
     "metadata": {},
     "output_type": "display_data"
    },
    {
     "data": {
      "image/png": "[encoded data removed]",
      "text/plain": [
       "<PIL.Image.Image image mode=L size=28x28 at 0x24890D98E50>"
      ]
     },
     "metadata": {},
     "output_type": "display_data"
    },
    {
     "data": {
      "image/png": "[encoded data removed]",
      "text/plain": [
       "<PIL.Image.Image image mode=L size=28x28 at 0x24890D98520>"
      ]
     },
     "metadata": {},
     "output_type": "display_data"
    },
    {
     "data": {
      "image/png": "[encoded data removed]",
      "text/plain": [
       "<PIL.Image.Image image mode=L size=28x28 at 0x24890D98E50>"
      ]
     },
     "metadata": {},
     "output_type": "display_data"
    },
    {
     "name": "stdout",
     "output_type": "stream",
     "text": [
      "Images classified as drusen from Training set\n"
     ]
    },
    {
     "data": {
      "image/png": "[encoded data removed]",
      "text/plain": [
       "<PIL.Image.Image image mode=L size=28x28 at 0x24890D98520>"
      ]
     },
     "metadata": {},
     "output_type": "display_data"
    },
    {
     "data": {
      "image/png": "[encoded data removed]",
      "text/plain": [
       "<PIL.Image.Image image mode=L size=28x28 at 0x24890D98E50>"
      ]
     },
     "metadata": {},
     "output_type": "display_data"
    },
    {
     "data": {
      "image/png": "[encoded data removed]",
      "text/plain": [
       "<PIL.Image.Image image mode=L size=28x28 at 0x24890D98520>"
      ]
     },
     "metadata": {},
     "output_type": "display_data"
    },
    {
     "data": {
      "image/png": "[encoded data removed]",
      "text/plain": [
       "<PIL.Image.Image image mode=L size=28x28 at 0x24890D98520>"
      ]
     },
     "metadata": {},
     "output_type": "display_data"
    },
    {
     "data": {
      "image/png": "[encoded data removed]",
      "text/plain": [
       "<PIL.Image.Image image mode=L size=28x28 at 0x24890D98E50>"
      ]
     },
     "metadata": {},
     "output_type": "display_data"
    },
    {
     "data": {
      "image/png": "[encoded data removed]",
      "text/plain": [
       "<PIL.Image.Image image mode=L size=28x28 at 0x24890D98E50>"
      ]
     },
     "metadata": {},
     "output_type": "display_data"
    },
    {
     "data": {
      "image/png": "[encoded data removed]",
      "text/plain": [
       "<PIL.Image.Image image mode=L size=28x28 at 0x24890D98E50>"
      ]
     },
     "metadata": {},
     "output_type": "display_data"
    },
    {
     "data": {
      "image/png": "[encoded data removed]",
      "text/plain": [
       "<PIL.Image.Image image mode=L size=28x28 at 0x24890D98520>"
      ]
     },
     "metadata": {},
     "output_type": "display_data"
    },
    {
     "data": {
      "image/png": "[encoded data removed]",
      "text/plain": [
       "<PIL.Image.Image image mode=L size=28x28 at 0x24890D98520>"
      ]
     },
     "metadata": {},
     "output_type": "display_data"
    },
    {
     "data": {
      "image/png": "[encoded data removed]",
      "text/plain": [
       "<PIL.Image.Image image mode=L size=28x28 at 0x24890D98520>"
      ]
     },
     "metadata": {},
     "output_type": "display_data"
    },
    {
     "name": "stdout",
     "output_type": "stream",
     "text": [
      "Images classified as normal from Training set\n"
     ]
    },
    {
     "data": {
      "image/png": "[encoded data removed]",
      "text/plain": [
       "<PIL.Image.Image image mode=L size=28x28 at 0x24890D98E50>"
      ]
     },
     "metadata": {},
     "output_type": "display_data"
    },
    {
     "data": {
      "image/png": "[encoded data removed]",
      "text/plain": [
       "<PIL.Image.Image image mode=L size=28x28 at 0x24890D98520>"
      ]
     },
     "metadata": {},
     "output_type": "display_data"
    },
    {
     "data": {
      "image/png": "[encoded data removed]",
      "text/plain": [
       "<PIL.Image.Image image mode=L size=28x28 at 0x24890D98E50>"
      ]
     },
     "metadata": {},
     "output_type": "display_data"
    },
    {
     "data": {
      "image/png": "[encoded data removed]",
      "text/plain": [
       "<PIL.Image.Image image mode=L size=28x28 at 0x24890D98E50>"
      ]
     },
     "metadata": {},
     "output_type": "display_data"
    },
    {
     "data": {
      "image/png": "[encoded data removed]",
      "text/plain": [
       "<PIL.Image.Image image mode=L size=28x28 at 0x24890D98520>"
      ]
     },
     "metadata": {},
     "output_type": "display_data"
    },
    {
     "data": {
      "image/png": "[encoded data removed]",
      "text/plain": [
       "<PIL.Image.Image image mode=L size=28x28 at 0x24890D98E50>"
      ]
     },
     "metadata": {},
     "output_type": "display_data"
    },
    {
     "data": {
      "image/png": "[encoded data removed]",
      "text/plain": [
       "<PIL.Image.Image image mode=L size=28x28 at 0x24890D98520>"
      ]
     },
     "metadata": {},
     "output_type": "display_data"
    },
    {
     "data": {
      "image/png": "[encoded data removed]",
      "text/plain": [
       "<PIL.Image.Image image mode=L size=28x28 at 0x24890D98E50>"
      ]
     },
     "metadata": {},
     "output_type": "display_data"
    },
    {
     "data": {
      "image/png": "[encoded data removed]",
      "text/plain": [
       "<PIL.Image.Image image mode=L size=28x28 at 0x24890D98E50>"
      ]
     },
     "metadata": {},
     "output_type": "display_data"
    },
    {
     "data": {
      "image/png": "[encoded data removed]",
      "text/plain": [
       "<PIL.Image.Image image mode=L size=28x28 at 0x24890D98520>"
      ]
     },
     "metadata": {},
     "output_type": "display_data"
    },
    {
     "name": "stdout",
     "output_type": "stream",
     "text": [
      "Images classified as choroidal neovascularization from Validation set\n"
     ]
    },
    {
     "data": {
      "image/png": "[encoded data removed]",
      "text/plain": [
       "<PIL.Image.Image image mode=L size=28x28 at 0x2489AD994F0>"
      ]
     },
     "metadata": {},
     "output_type": "display_data"
    },
    {
     "data": {
      "image/png": "[encoded data removed]",
      "text/plain": [
       "<PIL.Image.Image image mode=L size=28x28 at 0x24890D98E50>"
      ]
     },
     "metadata": {},
     "output_type": "display_data"
    },
    {
     "data": {
      "image/png": "[encoded data removed]",
      "text/plain": [
       "<PIL.Image.Image image mode=L size=28x28 at 0x24890DCA340>"
      ]
     },
     "metadata": {},
     "output_type": "display_data"
    },
    {
     "data": {
      "image/png": "[encoded data removed]",
      "text/plain": [
       "<PIL.Image.Image image mode=L size=28x28 at 0x24890D98E50>"
      ]
     },
     "metadata": {},
     "output_type": "display_data"
    },
    {
     "data": {
      "image/png": "[encoded data removed]",
      "text/plain": [
       "<PIL.Image.Image image mode=L size=28x28 at 0x2489AD2BC70>"
      ]
     },
     "metadata": {},
     "output_type": "display_data"
    },
    {
     "data": {
      "image/png": "[encoded data removed]",
      "text/plain": [
       "<PIL.Image.Image image mode=L size=28x28 at 0x24890D880A0>"
      ]
     },
     "metadata": {},
     "output_type": "display_data"
    },
    {
     "data": {
      "image/png": "[encoded data removed]",
      "text/plain": [
       "<PIL.Image.Image image mode=L size=28x28 at 0x24890D98E50>"
      ]
     },
     "metadata": {},
     "output_type": "display_data"
    },
    {
     "data": {
      "image/png": "[encoded data removed]",
      "text/plain": [
       "<PIL.Image.Image image mode=L size=28x28 at 0x24890D98E50>"
      ]
     },
     "metadata": {},
     "output_type": "display_data"
    },
    {
     "data": {
      "image/png": "[encoded data removed]",
      "text/plain": [
       "<PIL.Image.Image image mode=L size=28x28 at 0x24890D880A0>"
      ]
     },
     "metadata": {},
     "output_type": "display_data"
    },
    {
     "data": {
      "image/png": "[encoded data removed]",
      "text/plain": [
       "<PIL.Image.Image image mode=L size=28x28 at 0x24890D98E50>"
      ]
     },
     "metadata": {},
     "output_type": "display_data"
    },
    {
     "name": "stdout",
     "output_type": "stream",
     "text": [
      "Images classified as diabetic macular edema from Validation set\n"
     ]
    },
    {
     "data": {
      "image/png": "[encoded data removed]",
      "text/plain": [
       "<PIL.Image.Image image mode=L size=28x28 at 0x24890D98520>"
      ]
     },
     "metadata": {},
     "output_type": "display_data"
    },
    {
     "data": {
      "image/png": "[encoded data removed]",
      "text/plain": [
       "<PIL.Image.Image image mode=L size=28x28 at 0x24890D98E50>"
      ]
     },
     "metadata": {},
     "output_type": "display_data"
    },
    {
     "data": {
      "image/png": "[encoded data removed]",
      "text/plain": [
       "<PIL.Image.Image image mode=L size=28x28 at 0x24890D98520>"
      ]
     },
     "metadata": {},
     "output_type": "display_data"
    },
    {
     "data": {
      "image/png": "[encoded data removed]",
      "text/plain": [
       "<PIL.Image.Image image mode=L size=28x28 at 0x24890D98E50>"
      ]
     },
     "metadata": {},
     "output_type": "display_data"
    },
    {
     "data": {
      "image/png": "[encoded data removed]",
      "text/plain": [
       "<PIL.Image.Image image mode=L size=28x28 at 0x24890D98520>"
      ]
     },
     "metadata": {},
     "output_type": "display_data"
    },
    {
     "data": {
      "image/png": "[encoded data removed]",
      "text/plain": [
       "<PIL.Image.Image image mode=L size=28x28 at 0x24890D98E50>"
      ]
     },
     "metadata": {},
     "output_type": "display_data"
    },
    {
     "data": {
      "image/png": "[encoded data removed]",
      "text/plain": [
       "<PIL.Image.Image image mode=L size=28x28 at 0x24890D98520>"
      ]
     },
     "metadata": {},
     "output_type": "display_data"
    },
    {
     "data": {
      "image/png": "[encoded data removed]",
      "text/plain": [
       "<PIL.Image.Image image mode=L size=28x28 at 0x24890D98E50>"
      ]
     },
     "metadata": {},
     "output_type": "display_data"
    },
    {
     "data": {
      "image/png": "[encoded data removed]",
      "text/plain": [
       "<PIL.Image.Image image mode=L size=28x28 at 0x24890D98E50>"
      ]
     },
     "metadata": {},
     "output_type": "display_data"
    },
    {
     "data": {
      "image/png": "[encoded data removed]",
      "text/plain": [
       "<PIL.Image.Image image mode=L size=28x28 at 0x24890D98E50>"
      ]
     },
     "metadata": {},
     "output_type": "display_data"
    },
    {
     "name": "stdout",
     "output_type": "stream",
     "text": [
      "Images classified as drusen from Validation set\n"
     ]
    },
    {
     "data": {
      "image/png": "[encoded data removed]",
      "text/plain": [
       "<PIL.Image.Image image mode=L size=28x28 at 0x24890D98E50>"
      ]
     },
     "metadata": {},
     "output_type": "display_data"
    },
    {
     "data": {
      "image/png": "[encoded data removed]",
      "text/plain": [
       "<PIL.Image.Image image mode=L size=28x28 at 0x24890D98E50>"
      ]
     },
     "metadata": {},
     "output_type": "display_data"
    },
    {
     "data": {
      "image/png": "[encoded data removed]",
      "text/plain": [
       "<PIL.Image.Image image mode=L size=28x28 at 0x24890D98E50>"
      ]
     },
     "metadata": {},
     "output_type": "display_data"
    },
    {
     "data": {
      "image/png": "[encoded data removed]",
      "text/plain": [
       "<PIL.Image.Image image mode=L size=28x28 at 0x24890DCA160>"
      ]
     },
     "metadata": {},
     "output_type": "display_data"
    },
    {
     "data": {
      "image/png": "[encoded data removed]",
      "text/plain": [
       "<PIL.Image.Image image mode=L size=28x28 at 0x24890DCA160>"
      ]
     },
     "metadata": {},
     "output_type": "display_data"
    },
    {
     "data": {
      "image/png": "[encoded data removed]",
      "text/plain": [
       "<PIL.Image.Image image mode=L size=28x28 at 0x24890D98E50>"
      ]
     },
     "metadata": {},
     "output_type": "display_data"
    },
    {
     "data": {
      "image/png": "[encoded data removed]",
      "text/plain": [
       "<PIL.Image.Image image mode=L size=28x28 at 0x24890DCA160>"
      ]
     },
     "metadata": {},
     "output_type": "display_data"
    },
    {
     "data": {
      "image/png": "[encoded data removed]",
      "text/plain": [
       "<PIL.Image.Image image mode=L size=28x28 at 0x24890DCA160>"
      ]
     },
     "metadata": {},
     "output_type": "display_data"
    },
    {
     "data": {
      "image/png": "[encoded data removed]",
      "text/plain": [
       "<PIL.Image.Image image mode=L size=28x28 at 0x2489AD2BC70>"
      ]
     },
     "metadata": {},
     "output_type": "display_data"
    },
    {
     "data": {
      "image/png": "[encoded data removed]",
      "text/plain": [
       "<PIL.Image.Image image mode=L size=28x28 at 0x24890DCA160>"
      ]
     },
     "metadata": {},
     "output_type": "display_data"
    },
    {
     "name": "stdout",
     "output_type": "stream",
     "text": [
      "Images classified as normal from Validation set\n"
     ]
    },
    {
     "data": {
      "image/png": "[encoded data removed]",
      "text/plain": [
       "<PIL.Image.Image image mode=L size=28x28 at 0x24890DCA340>"
      ]
     },
     "metadata": {},
     "output_type": "display_data"
    },
    {
     "data": {
      "image/png": "[encoded data removed]",
      "text/plain": [
       "<PIL.Image.Image image mode=L size=28x28 at 0x24890DCA340>"
      ]
     },
     "metadata": {},
     "output_type": "display_data"
    },
    {
     "data": {
      "image/png": "[encoded data removed]",
      "text/plain": [
       "<PIL.Image.Image image mode=L size=28x28 at 0x24890D88190>"
      ]
     },
     "metadata": {},
     "output_type": "display_data"
    },
    {
     "data": {
      "image/png": "[encoded data removed]",
      "text/plain": [
       "<PIL.Image.Image image mode=L size=28x28 at 0x24890DCA340>"
      ]
     },
     "metadata": {},
     "output_type": "display_data"
    },
    {
     "data": {
      "image/png": "[encoded data removed]",
      "text/plain": [
       "<PIL.Image.Image image mode=L size=28x28 at 0x24890D88190>"
      ]
     },
     "metadata": {},
     "output_type": "display_data"
    },
    {
     "data": {
      "image/png": "[encoded data removed]",
      "text/plain": [
       "<PIL.Image.Image image mode=L size=28x28 at 0x24890DCA340>"
      ]
     },
     "metadata": {},
     "output_type": "display_data"
    },
    {
     "data": {
      "image/png": "[encoded data removed]",
      "text/plain": [
       "<PIL.Image.Image image mode=L size=28x28 at 0x24890DCA340>"
      ]
     },
     "metadata": {},
     "output_type": "display_data"
    },
    {
     "data": {
      "image/png": "[encoded data removed]",
      "text/plain": [
       "<PIL.Image.Image image mode=L size=28x28 at 0x24890D88190>"
      ]
     },
     "metadata": {},
     "output_type": "display_data"
    },
    {
     "data": {
      "image/png": "[encoded data removed]",
      "text/plain": [
       "<PIL.Image.Image image mode=L size=28x28 at 0x24890DCA340>"
      ]
     },
     "metadata": {},
     "output_type": "display_data"
    },
    {
     "data": {
      "image/png": "[encoded data removed]",
      "text/plain": [
       "<PIL.Image.Image image mode=L size=28x28 at 0x24890DCA340>"
      ]
     },
     "metadata": {},
     "output_type": "display_data"
    },
    {
     "name": "stdout",
     "output_type": "stream",
     "text": [
      "Images classified as choroidal neovascularization from Test set\n"
     ]
    },
    {
     "data": {
      "image/png": "[encoded data removed]",
      "text/plain": [
       "<PIL.Image.Image image mode=L size=28x28 at 0x24890DCA160>"
      ]
     },
     "metadata": {},
     "output_type": "display_data"
    },
    {
     "data": {
      "image/png": "[encoded data removed]",
      "text/plain": [
       "<PIL.Image.Image image mode=L size=28x28 at 0x24890D88190>"
      ]
     },
     "metadata": {},
     "output_type": "display_data"
    },
    {
     "data": {
      "image/png": "[encoded data removed]",
      "text/plain": [
       "<PIL.Image.Image image mode=L size=28x28 at 0x24890DCA160>"
      ]
     },
     "metadata": {},
     "output_type": "display_data"
    },
    {
     "data": {
      "image/png": "[encoded data removed]",
      "text/plain": [
       "<PIL.Image.Image image mode=L size=28x28 at 0x24890DCA160>"
      ]
     },
     "metadata": {},
     "output_type": "display_data"
    },
    {
     "data": {
      "image/png": "[encoded data removed]",
      "text/plain": [
       "<PIL.Image.Image image mode=L size=28x28 at 0x24890DCA160>"
      ]
     },
     "metadata": {},
     "output_type": "display_data"
    },
    {
     "data": {
      "image/png": "[encoded data removed]",
      "text/plain": [
       "<PIL.Image.Image image mode=L size=28x28 at 0x24890D98520>"
      ]
     },
     "metadata": {},
     "output_type": "display_data"
    },
    {
     "data": {
      "image/png": "[encoded data removed]",
      "text/plain": [
       "<PIL.Image.Image image mode=L size=28x28 at 0x24890DCA160>"
      ]
     },
     "metadata": {},
     "output_type": "display_data"
    },
    {
     "data": {
      "image/png": "[encoded data removed]",
      "text/plain": [
       "<PIL.Image.Image image mode=L size=28x28 at 0x24890DCA160>"
      ]
     },
     "metadata": {},
     "output_type": "display_data"
    },
    {
     "data": {
      "image/png": "[encoded data removed]",
      "text/plain": [
       "<PIL.Image.Image image mode=L size=28x28 at 0x24890D98520>"
      ]
     },
     "metadata": {},
     "output_type": "display_data"
    },
    {
     "data": {
      "image/png": "[encoded data removed]",
      "text/plain": [
       "<PIL.Image.Image image mode=L size=28x28 at 0x24890D88190>"
      ]
     },
     "metadata": {},
     "output_type": "display_data"
    },
    {
     "name": "stdout",
     "output_type": "stream",
     "text": [
      "Images classified as diabetic macular edema from Test set\n"
     ]
    },
    {
     "data": {
      "image/png": "[encoded data removed]",
      "text/plain": [
       "<PIL.Image.Image image mode=L size=28x28 at 0x24890D98520>"
      ]
     },
     "metadata": {},
     "output_type": "display_data"
    },
    {
     "data": {
      "image/png": "[encoded data removed]",
      "text/plain": [
       "<PIL.Image.Image image mode=L size=28x28 at 0x2489AD2BDC0>"
      ]
     },
     "metadata": {},
     "output_type": "display_data"
    },
    {
     "data": {
      "image/png": "[encoded data removed]",
      "text/plain": [
       "<PIL.Image.Image image mode=L size=28x28 at 0x24890D98520>"
      ]
     },
     "metadata": {},
     "output_type": "display_data"
    },
    {
     "data": {
      "image/png": "[encoded data removed]",
      "text/plain": [
       "<PIL.Image.Image image mode=L size=28x28 at 0x2489AD2BDC0>"
      ]
     },
     "metadata": {},
     "output_type": "display_data"
    },
    {
     "data": {
      "image/png": "[encoded data removed]",
      "text/plain": [
       "<PIL.Image.Image image mode=L size=28x28 at 0x2489AD2BDC0>"
      ]
     },
     "metadata": {},
     "output_type": "display_data"
    },
    {
     "data": {
      "image/png": "[encoded data removed]",
      "text/plain": [
       "<PIL.Image.Image image mode=L size=28x28 at 0x2489AD2BDC0>"
      ]
     },
     "metadata": {},
     "output_type": "display_data"
    },
    {
     "data": {
      "image/png": "[encoded data removed]",
      "text/plain": [
       "<PIL.Image.Image image mode=L size=28x28 at 0x2489AD2BDC0>"
      ]
     },
     "metadata": {},
     "output_type": "display_data"
    },
    {
     "data": {
      "image/png": "[encoded data removed]",
      "text/plain": [
       "<PIL.Image.Image image mode=L size=28x28 at 0x24890D98520>"
      ]
     },
     "metadata": {},
     "output_type": "display_data"
    },
    {
     "data": {
      "image/png": "[encoded data removed]",
      "text/plain": [
       "<PIL.Image.Image image mode=L size=28x28 at 0x24890D98520>"
      ]
     },
     "metadata": {},
     "output_type": "display_data"
    },
    {
     "data": {
      "image/png": "[encoded data removed]",
      "text/plain": [
       "<PIL.Image.Image image mode=L size=28x28 at 0x24890DCA400>"
      ]
     },
     "metadata": {},
     "output_type": "display_data"
    },
    {
     "name": "stdout",
     "output_type": "stream",
     "text": [
      "Images classified as drusen from Test set\n"
     ]
    },
    {
     "data": {
      "image/png": "[encoded data removed]",
      "text/plain": [
       "<PIL.Image.Image image mode=L size=28x28 at 0x2489AD996D0>"
      ]
     },
     "metadata": {},
     "output_type": "display_data"
    },
    {
     "data": {
      "image/png": "[encoded data removed]",
      "text/plain": [
       "<PIL.Image.Image image mode=L size=28x28 at 0x2489AD2BC40>"
      ]
     },
     "metadata": {},
     "output_type": "display_data"
    },
    {
     "data": {
      "image/png": "[encoded data removed]",
      "text/plain": [
       "<PIL.Image.Image image mode=L size=28x28 at 0x24890DCA340>"
      ]
     },
     "metadata": {},
     "output_type": "display_data"
    },
    {
     "data": {
      "image/png": "[encoded data removed]",
      "text/plain": [
       "<PIL.Image.Image image mode=L size=28x28 at 0x24890D98520>"
      ]
     },
     "metadata": {},
     "output_type": "display_data"
    },
    {
     "data": {
      "image/png": "[encoded data removed]",
      "text/plain": [
       "<PIL.Image.Image image mode=L size=28x28 at 0x24890DCA340>"
      ]
     },
     "metadata": {},
     "output_type": "display_data"
    },
    {
     "data": {
      "image/png": "[encoded data removed]",
      "text/plain": [
       "<PIL.Image.Image image mode=L size=28x28 at 0x24890D98520>"
      ]
     },
     "metadata": {},
     "output_type": "display_data"
    },
    {
     "data": {
      "image/png": "[encoded data removed]",
      "text/plain": [
       "<PIL.Image.Image image mode=L size=28x28 at 0x24890D98520>"
      ]
     },
     "metadata": {},
     "output_type": "display_data"
    },
    {
     "data": {
      "image/png": "[encoded data removed]",
      "text/plain": [
       "<PIL.Image.Image image mode=L size=28x28 at 0x24890D98520>"
      ]
     },
     "metadata": {},
     "output_type": "display_data"
    },
    {
     "data": {
      "image/png": "[encoded data removed]",
      "text/plain": [
       "<PIL.Image.Image image mode=L size=28x28 at 0x24890D98520>"
      ]
     },
     "metadata": {},
     "output_type": "display_data"
    },
    {
     "data": {
      "image/png": "[encoded data removed]",
      "text/plain": [
       "<PIL.Image.Image image mode=L size=28x28 at 0x2489AD2BDC0>"
      ]
     },
     "metadata": {},
     "output_type": "display_data"
    },
    {
     "name": "stdout",
     "output_type": "stream",
     "text": [
      "Images classified as normal from Test set\n"
     ]
    },
    {
     "data": {
      "image/png": "[encoded data removed]",
      "text/plain": [
       "<PIL.Image.Image image mode=L size=28x28 at 0x24890D98520>"
      ]
     },
     "metadata": {},
     "output_type": "display_data"
    },
    {
     "data": {
      "image/png": "[encoded data removed]",
      "text/plain": [
       "<PIL.Image.Image image mode=L size=28x28 at 0x24890D98520>"
      ]
     },
     "metadata": {},
     "output_type": "display_data"
    },
    {
     "data": {
      "image/png": "[encoded data removed]",
      "text/plain": [
       "<PIL.Image.Image image mode=L size=28x28 at 0x24890DCA160>"
      ]
     },
     "metadata": {},
     "output_type": "display_data"
    },
    {
     "data": {
      "image/png": "[encoded data removed]",
      "text/plain": [
       "<PIL.Image.Image image mode=L size=28x28 at 0x24890DCA160>"
      ]
     },
     "metadata": {},
     "output_type": "display_data"
    },
    {
     "data": {
      "image/png": "[encoded data removed]",
      "text/plain": [
       "<PIL.Image.Image image mode=L size=28x28 at 0x24890D98520>"
      ]
     },
     "metadata": {},
     "output_type": "display_data"
    },
    {
     "data": {
      "image/png": "[encoded data removed]",
      "text/plain": [
       "<PIL.Image.Image image mode=L size=28x28 at 0x24890DCA160>"
      ]
     },
     "metadata": {},
     "output_type": "display_data"
    },
    {
     "data": {
      "image/png": "[encoded data removed]",
      "text/plain": [
       "<PIL.Image.Image image mode=L size=28x28 at 0x24890D98520>"
      ]
     },
     "metadata": {},
     "output_type": "display_data"
    },
    {
     "data": {
      "image/png": "[encoded data removed]",
      "text/plain": [
       "<PIL.Image.Image image mode=L size=28x28 at 0x24890DCA160>"
      ]
     },
     "metadata": {},
     "output_type": "display_data"
    },
    {
     "data": {
      "image/png": "[encoded data removed]",
      "text/plain": [
       "<PIL.Image.Image image mode=L size=28x28 at 0x24890DCA160>"
      ]
     },
     "metadata": {},
     "output_type": "display_data"
    },
    {
     "data": {
      "image/png": "[encoded data removed]",
      "text/plain": [
       "<PIL.Image.Image image mode=L size=28x28 at 0x24890DCA160>"
      ]
     },
     "metadata": {},
     "output_type": "display_data"
    }
   ],
   "source": [
    "#Function to print images\n",
    "def print_image(dataset,label):\n",
    "    i=0\n",
    "    for img,lbl in dataset:\n",
    "        if lbl == label:\n",
    "            display(img)\n",
    "            i = i+1\n",
    "        if i == 10:\n",
    "            break\n",
    "            \n",
    "#load the data\n",
    "DataClass = getattr(medmnist, 'OCTMNIST')\n",
    "\n",
    "oct_train_dataset = DataClass(split='train', download=True)\n",
    "oct_validation_dataset = DataClass(split='val', download=True)\n",
    "oct_test_dataset = DataClass(split='test', download=True)\n",
    "\n",
    "# getting and printing images from Training Set\n",
    "print(\"Images classified as choroidal neovascularization from Training set\")\n",
    "print_image(oct_train_dataset,0)\n",
    "print(\"Images classified as diabetic macular edema from Training set\")\n",
    "print_image(oct_train_dataset,1)\n",
    "print(\"Images classified as drusen from Training set\")\n",
    "print_image(oct_train_dataset,2)\n",
    "print(\"Images classified as normal from Training set\")\n",
    "print_image(oct_train_dataset,3)\n",
    "\n",
    "# getting and printing images from Valdiation Set\n",
    "print(\"Images classified as choroidal neovascularization from Validation set\")\n",
    "print_image(oct_validation_dataset,0)\n",
    "print(\"Images classified as diabetic macular edema from Validation set\")\n",
    "print_image(oct_validation_dataset,1)\n",
    "print(\"Images classified as drusen from Validation set\")\n",
    "print_image(oct_validation_dataset,2)\n",
    "print(\"Images classified as normal from Validation set\")\n",
    "print_image(oct_validation_dataset,3)\n",
    "\n",
    "# getting and printing images from Test Set\n",
    "print(\"Images classified as choroidal neovascularization from Test set\")\n",
    "print_image(oct_test_dataset,0)\n",
    "print(\"Images classified as diabetic macular edema from Test set\")\n",
    "print_image(oct_test_dataset,1)\n",
    "print(\"Images classified as drusen from Test set\")\n",
    "print_image(oct_test_dataset,2)\n",
    "print(\"Images classified as normal from Test set\")\n",
    "print_image(oct_test_dataset,3)\n",
    "\n"
   ]
  },
  {
   "cell_type": "markdown",
   "id": "c4d5f396",
   "metadata": {},
   "source": [
    "#### Designing a 2Conv 2FC  Convolutional Neural Network\n",
    " - Design a CNN with two Conv layers and two FC layers. Train the model on the training set,use the validation set to choose the best design among at least three different choices, and test the chosen model on the test set. Report the four metrics Training Accuracy, Validation Accuracy, Test Accuracy and Training Time."
   ]
  },
  {
   "cell_type": "code",
   "execution_count": 3,
   "id": "7a017b11",
   "metadata": {},
   "outputs": [],
   "source": [
    "#Defining parameters\n",
    "NUM_EPOCHS = 5\n",
    "BATCH_SIZE = 128\n",
    "lr = 0.1\n",
    "DataClass = getattr(medmnist,'OCTMNIST')\n",
    "\n",
    "#Valriable for holding metrics\n",
    "M1_NN = {}\n",
    "M2_NN = {}\n",
    "M3_NN = {}\n",
    "M4_NN = {}"
   ]
  },
  {
   "cell_type": "markdown",
   "id": "986bbc94",
   "metadata": {},
   "source": [
    "#### Data Preprocessing"
   ]
  },
  {
   "cell_type": "code",
   "execution_count": 4,
   "id": "ff5ed14b",
   "metadata": {},
   "outputs": [
    {
     "name": "stdout",
     "output_type": "stream",
     "text": [
      "Using downloaded and verified file: C:\\Users\\svpol\\.medmnist\\octmnist.npz\n",
      "Using downloaded and verified file: C:\\Users\\svpol\\.medmnist\\octmnist.npz\n",
      "Using downloaded and verified file: C:\\Users\\svpol\\.medmnist\\octmnist.npz\n"
     ]
    }
   ],
   "source": [
    "# preprocessing\n",
    "data_transform = transforms.Compose([\n",
    "    transforms.ToTensor(),\n",
    "    transforms.Normalize(mean=[.5], std=[.5])\n",
    "])\n",
    "# load the data\n",
    "train_dataset = DataClass(split='train', transform=data_transform, download=True)\n",
    "test_dataset = DataClass(split='test', transform=data_transform, download=True)\n",
    "val_dataset = DataClass(split='val', transform=data_transform, download=True)\n",
    "\n",
    "# encapsulate data into dataloader form\n",
    "train_loader = data.DataLoader(dataset=train_dataset, batch_size=BATCH_SIZE, shuffle=True)\n",
    "train_loader_at_eval = data.DataLoader(dataset=train_dataset, batch_size=2*BATCH_SIZE, shuffle=False)\n",
    "test_loader = data.DataLoader(dataset=test_dataset, batch_size=2*BATCH_SIZE, shuffle=False)\n",
    "val_loader = data.DataLoader(dataset=val_dataset, batch_size=2*BATCH_SIZE, shuffle=False)"
   ]
  },
  {
   "cell_type": "markdown",
   "id": "32886021",
   "metadata": {},
   "source": [
    "#### Create CNN models"
   ]
  },
  {
   "cell_type": "code",
   "execution_count": 5,
   "id": "af7f419e",
   "metadata": {},
   "outputs": [],
   "source": [
    "#Create three seperate CNN models with 2 Convolution and 2 Fully connected Layers\n",
    "class CNN1(torch.nn.Module):\n",
    "    def __init__(self):\n",
    "        super(CNN1, self).__init__()\n",
    "        self.conv1 = torch.nn.Conv2d(1, 12, 3) #1 input channel, 12 outpur channels and kernel size 3\n",
    "        self.conv2 = torch.nn.Conv2d(12, 16, 3)\n",
    "        \n",
    "        self.pool = torch.nn.MaxPool2d(2, 2)\n",
    "    \n",
    "        self.fc1 = torch.nn.Linear(16 * 5 * 5, 120)\n",
    "        self.fc2 = torch.nn.Linear(120, 4)\n",
    "\n",
    "    def forward(self, x):\n",
    "        x = self.pool(F.relu(self.conv1(x)))\n",
    "        x = self.pool(F.relu(self.conv2(x)))\n",
    "        x = x.view(-1, 16 * 5 * 5)\n",
    "        x = F.relu(self.fc1(x))\n",
    "        x = self.fc2(x)\n",
    "        return x\n",
    "    \n",
    "class CNN2(torch.nn.Module):\n",
    "    def __init__(self):\n",
    "        super(CNN2, self).__init__()\n",
    "        self.conv1 = torch.nn.Conv2d(1, 6, 5) #1 input channel, 6 outpur channels and kernel size 5\n",
    "        self.conv2 = torch.nn.Conv2d(6, 12, 5)\n",
    "        \n",
    "        self.pool = torch.nn.MaxPool2d(2, 2)\n",
    "    \n",
    "        self.fc1 = torch.nn.Linear(12*4*4,90)\n",
    "        self.fc2 = torch.nn.Linear(90, 4)\n",
    "\n",
    "    def forward(self, x):\n",
    "        x = self.pool(F.relu(self.conv1(x)))\n",
    "        x = self.pool(F.relu(self.conv2(x)))\n",
    "        x = x.view(-1, 12*4*4)\n",
    "        x = F.relu(self.fc1(x))\n",
    "        x = self.fc2(x)\n",
    "        return x\n",
    "    \n",
    "    \n",
    "class CNN3(torch.nn.Module):\n",
    "    def __init__(self):\n",
    "        super(CNN3, self).__init__()\n",
    "        self.conv1 = torch.nn.Conv2d(1, 6, 5) #1 input channel, 6 outpur channels and kernel size 5\n",
    "        self.conv2 = torch.nn.Conv2d(6, 16, 5)\n",
    "        #No pooling layer used\n",
    "        self.fc1 = torch.nn.Linear(16*20*20,90)\n",
    "        self.fc2 = torch.nn.Linear(90, 4)\n",
    "\n",
    "    def forward(self, x):\n",
    "        x = (F.relu(self.conv1(x)))\n",
    "        x = (F.relu(self.conv2(x)))\n",
    "        x = x.view(-1, 16*20*20)\n",
    "        x = F.relu(self.fc1(x))\n",
    "        x = self.fc2(x)\n",
    "        return x"
   ]
  },
  {
   "cell_type": "markdown",
   "id": "8bfc107b",
   "metadata": {},
   "source": [
    "#### Train and Evaluate the models"
   ]
  },
  {
   "cell_type": "code",
   "execution_count": 6,
   "id": "d0fd7cab",
   "metadata": {
    "scrolled": true
   },
   "outputs": [
    {
     "name": "stdout",
     "output_type": "stream",
     "text": [
      "Training Accuracy : 0.8277337218010402\n",
      "Validation Accuracy : 0.8252400295420975\n",
      "Test Accuracy : 0.621\n",
      "Training Time : 135.71879280000002\n"
     ]
    }
   ],
   "source": [
    "#function to train the model and record time\n",
    "def train_cnn(CNN,NUM_EPOCHS,train_loader):\n",
    "    optimizer = optim.SGD(CNN.parameters(), lr=lr, momentum=0.9)\n",
    "    criterion = nn.CrossEntropyLoss()\n",
    "    start = time.perf_counter()\n",
    "\n",
    "    for epoch in range(NUM_EPOCHS):\n",
    "        CNN.train()\n",
    "        for inputs, targets in (train_loader):\n",
    "            optimizer.zero_grad()\n",
    "            outputs = CNN(inputs)\n",
    "            targets = targets.squeeze().long()\n",
    "            loss = criterion(outputs, targets)\n",
    "            loss.backward()\n",
    "            optimizer.step()\n",
    "\n",
    "    elapsed_time = time.perf_counter() - start\n",
    "    return CNN,elapsed_time\n",
    "\n",
    "#Function to calculate accuracy\n",
    "def get_accu(split,CNN):\n",
    "    CNN.eval()\n",
    "    y_true = torch.tensor([])\n",
    "    y_score = torch.tensor([])\n",
    "    \n",
    "    if split == 'train':\n",
    "        data_loader = train_loader_at_eval\n",
    "    elif split == 'val':\n",
    "        data_loader = val_loader \n",
    "    else:\n",
    "        data_loader = test_loader\n",
    "\n",
    "    with torch.no_grad():\n",
    "        \n",
    "        for inputs, targets in data_loader:\n",
    "            outputs = CNN(inputs)\n",
    "            targets = targets.squeeze().long()\n",
    "            outputs = outputs.softmax(dim=-1)\n",
    "            targets = targets.float().resize_(len(targets), 1)\n",
    "            y_true = torch.cat((y_true, targets), 0)\n",
    "            y_score = torch.cat((y_score, outputs), 0)\n",
    "\n",
    "        y_true = y_true.numpy()\n",
    "        y_score = y_score.detach().numpy()\n",
    "        evaluator = Evaluator('octmnist', split)\n",
    "        metrics = evaluator.evaluate(y_score)\n",
    "        return metrics\n",
    "\n",
    "#initialize models\n",
    "myCNN1 = CNN1()\n",
    "myCNN2 = CNN2()\n",
    "myCNN3 = CNN3()\n",
    "\n",
    "#train models and compute elapsed time\n",
    "myCNN1, elapsed_time1 = train_cnn(myCNN1,NUM_EPOCHS,train_loader)\n",
    "myCNN2, elapsed_time2 = train_cnn(myCNN2,NUM_EPOCHS,train_loader)\n",
    "myCNN3, elapsed_time3 = train_cnn(myCNN3,NUM_EPOCHS,train_loader)\n",
    "\n",
    "#get validation accuracy\n",
    "val_acc1 = get_accu('val',myCNN1)[1]\n",
    "val_acc2 = get_accu('val',myCNN2)[1]\n",
    "val_acc3 = get_accu('val',myCNN3)[1]\n",
    "\n",
    "#pick the highest validation accuracy and the use corresponding model to get the required metrics\n",
    "if val_acc1 > val_acc2 and val_acc1 > val_acc3:\n",
    "    M1_NN['2N'] = get_accu('train',myCNN1)[1]\n",
    "    M2_NN['2N'] = val_acc1\n",
    "    M3_NN['2N'] = get_accu('test',myCNN1)[1]\n",
    "    M4_NN['2N'] = elapsed_time1\n",
    "elif val_acc2 > val_acc1 and val_acc2 > val_acc3:\n",
    "    M1_NN['2N'] = get_accu('train',myCNN2)[1]\n",
    "    M2_NN['2N'] = val_acc2\n",
    "    M3_NN['2N'] = get_accu('test',myCNN2)[1]\n",
    "    M4_NN['2N'] = elapsed_time2\n",
    "elif val_acc3 > val_acc1 and val_acc3 > val_acc2:\n",
    "    M1_NN['2N'] = get_accu('train',myCNN3)[1]\n",
    "    M2_NN['2N'] = val_acc3\n",
    "    M3_NN['2N'] = get_accu('test',myCNN3)[1]\n",
    "    M4_NN['2N'] = elapsed_time3\n",
    "    \n",
    "print(f\"Training Accuracy : {M1_NN['2N']}\\nValidation Accuracy : {M2_NN['2N']}\\nTest Accuracy : {M3_NN['2N']}\\nTraining Time : {M4_NN['2N']}\")"
   ]
  },
  {
   "cell_type": "markdown",
   "id": "c5bd1ba0",
   "metadata": {},
   "source": [
    "#### Designing a 3Conv 3FC  Convolutional Neural Network\n",
    " - Design a CNN with three Conv layers and three FC layers. Train the model on the training set,use the validation set to choose the best design among at least three different choices, and test the chosen model on the test set. Report the four metrics Training Accuracy, Validation Accuracy, Test Accuracy and Training Time."
   ]
  },
  {
   "cell_type": "code",
   "execution_count": 7,
   "id": "0161e7ff",
   "metadata": {},
   "outputs": [],
   "source": [
    "#Create three seperate CNN models with 3 Convolution and 3 Fully connected Layers\n",
    "class CNN31(nn.Module):\n",
    "    def __init__(self):\n",
    "        super(CNN31, self).__init__()\n",
    "        self.conv1 = nn.Conv2d(1, 10, 5, padding=2)#1 input channel, 10 outpur channels, kernel size 5 and padding 2\n",
    "        self.conv2 = nn.Conv2d(10, 16, 5,padding=2)\n",
    "        self.conv3 = nn.Conv2d(16, 24, 5,padding=2)\n",
    "        \n",
    "        self.pool = nn.MaxPool2d(2, 2)\n",
    "        \n",
    "        self.fc1 = nn.Linear(24 * 3 * 3, 90)\n",
    "        self.fc2 = nn.Linear(90, 60)\n",
    "        self.fc3 = nn.Linear(60, 4)\n",
    "\n",
    "    def forward(self, x):\n",
    "        x = self.pool(F.relu(self.conv1(x)))\n",
    "        x = self.pool(F.relu(self.conv2(x)))\n",
    "        x = self.pool(F.relu(self.conv3(x)))\n",
    "        x = x.view(-1, 24 * 3 * 3)\n",
    "        x = F.relu(self.fc1(x))\n",
    "        x = F.relu(self.fc2(x))\n",
    "        x = self.fc3(x)\n",
    "        return x\n",
    "    \n",
    "class CNN32(nn.Module):\n",
    "    def __init__(self):\n",
    "        super(CNN32, self).__init__()\n",
    "        self.conv1 = nn.Conv2d(1, 6, 3) #1 input channel, 6 outpur channels and kernel size 3\n",
    "        self.conv2 = nn.Conv2d(6, 12, 3)\n",
    "        self.conv3 = nn.Conv2d(12, 24, 3)\n",
    "        \n",
    "        self.pool = nn.MaxPool2d(2, 2)\n",
    "        \n",
    "        self.fc1 = nn.Linear(24 * 1 * 1, 120)\n",
    "        self.fc2 = nn.Linear(120, 60)\n",
    "        self.fc3 = nn.Linear(60, 4)\n",
    "\n",
    "    def forward(self, x):\n",
    "        x = self.pool(F.relu(self.conv1(x)))\n",
    "        x = self.pool(F.relu(self.conv2(x)))\n",
    "        x = self.pool(F.relu(self.conv3(x)))\n",
    "        x = x.view(-1, 24 * 1 * 1)\n",
    "        x = F.relu(self.fc1(x))\n",
    "        x = F.relu(self.fc2(x))\n",
    "        x = self.fc3(x)\n",
    "        return x\n",
    "    \n",
    "class CNN33(nn.Module):\n",
    "    def __init__(self):\n",
    "        super(CNN33, self).__init__()\n",
    "        self.conv1 = nn.Conv2d(1, 6, 5, padding=2) #1 input channel, 6 outpur channels, kernel size 5 and padding 2\n",
    "        self.conv2 = nn.Conv2d(6, 12, 5,padding=2)\n",
    "        self.conv3 = nn.Conv2d(12, 24, 5,padding=2)\n",
    "        #No pooling layer used\n",
    "        \n",
    "        self.fc1 = nn.Linear(24 * 28 * 28, 30)\n",
    "        self.fc2 = nn.Linear(30, 15)\n",
    "        self.fc3 = nn.Linear(15, 4)\n",
    "\n",
    "    def forward(self, x):\n",
    "        x = (F.relu(self.conv1(x)))\n",
    "        x = (F.relu(self.conv2(x)))\n",
    "        x = (F.relu(self.conv3(x)))\n",
    "        x = x.view(-1, 24 * 28 * 28)\n",
    "        x = F.relu(self.fc1(x))\n",
    "        x = F.relu(self.fc2(x))\n",
    "        x = self.fc3(x)\n",
    "        return x"
   ]
  },
  {
   "cell_type": "markdown",
   "id": "e9583526",
   "metadata": {},
   "source": [
    "#### Train and Evaluate the models"
   ]
  },
  {
   "cell_type": "code",
   "execution_count": 8,
   "id": "ab1d38e7",
   "metadata": {
    "scrolled": true
   },
   "outputs": [
    {
     "name": "stdout",
     "output_type": "stream",
     "text": [
      "Training Accuracy : 0.8249125434717933\n",
      "Validation Accuracy : 0.8262555391432792\n",
      "Test Accuracy : 0.642\n",
      "Training Time : 113.29039820000003\n"
     ]
    }
   ],
   "source": [
    "#initialize models\n",
    "myCNN31 = CNN31()\n",
    "myCNN32 = CNN32()\n",
    "myCNN33 = CNN33()\n",
    "\n",
    "#train models and compute elapsed time\n",
    "myCNN31, elapsed_time31 = train_cnn(myCNN31,NUM_EPOCHS,train_loader)\n",
    "myCNN32, elapsed_time32 = train_cnn(myCNN32,NUM_EPOCHS,train_loader)\n",
    "myCNN33, elapsed_time33 = train_cnn(myCNN33,NUM_EPOCHS,train_loader)\n",
    "\n",
    "#get validation accuracy\n",
    "val_acc31 = get_accu('val',myCNN31)[1]\n",
    "val_acc32 = get_accu('val',myCNN32)[1]\n",
    "val_acc33 = get_accu('val',myCNN33)[1]\n",
    "\n",
    "#pick the highest validation accuracy and the use corresponding model to get the required metrics\n",
    "if val_acc31 > val_acc32 and val_acc31 > val_acc33:\n",
    "    M1_NN['3N'] = get_accu('train',myCNN31)[1]\n",
    "    M2_NN['3N'] = val_acc31\n",
    "    M3_NN['3N'] = get_accu('test',myCNN31)[1]\n",
    "    M4_NN['3N'] = elapsed_time31\n",
    "elif val_acc32 > val_acc31 and val_acc32 > val_acc33:\n",
    "    M1_NN['3N'] = get_accu('train',myCNN32)[1]\n",
    "    M2_NN['3N'] = val_acc32\n",
    "    M3_NN['3N'] = get_accu('test',myCNN32)[1]\n",
    "    M4_NN['3N'] = elapsed_time32\n",
    "elif val_acc33 > val_acc31 and val_acc33 > val_acc32:\n",
    "    M1_NN['3N'] = get_accu('train',myCNN33)[1]\n",
    "    M2_NN['3N'] = val_acc33\n",
    "    M3_NN['3N'] = get_accu('test',myCNN33)[1]\n",
    "    M4_NN['3N'] = elapsed_time33\n",
    "    \n",
    "print(f\"Training Accuracy : {M1_NN['3N']}\\nValidation Accuracy : {M2_NN['3N']}\\nTest Accuracy : {M3_NN['3N']}\\nTraining Time : {M4_NN['3N']}\")"
   ]
  },
  {
   "cell_type": "markdown",
   "id": "0ccbe09e",
   "metadata": {},
   "source": [
    "### Performance comparison"
   ]
  },
  {
   "cell_type": "markdown",
   "id": "01314469",
   "metadata": {},
   "source": [
    "Summarise each of the four metrics from the two models using one or more bar graphs.\n"
   ]
  },
  {
   "cell_type": "code",
   "execution_count": 9,
   "id": "de1145be",
   "metadata": {
    "scrolled": false
   },
   "outputs": [
    {
     "data": {
      "text/plain": [
       "<matplotlib.legend.Legend at 0x248a5524490>"
      ]
     },
     "execution_count": 9,
     "metadata": {},
     "output_type": "execute_result"
    },
    {
     "data": {
      "image/png": "[encoded data removed]",
      "text/plain": [
       "<Figure size 432x432 with 1 Axes>"
      ]
     },
     "metadata": {
      "needs_background": "light"
     },
     "output_type": "display_data"
    },
    {
     "data": {
      "image/png": "[encoded data removed]",
      "text/plain": [
       "<Figure size 432x432 with 1 Axes>"
      ]
     },
     "metadata": {
      "needs_background": "light"
     },
     "output_type": "display_data"
    }
   ],
   "source": [
    "#Create a compatible dataset to plot the graph\n",
    "\n",
    "X_points = np.arange(3)\n",
    "a_data = [M1_NN['2N'],M2_NN['2N'],M3_NN['2N']]\n",
    "b_data = [M1_NN['3N'],M2_NN['3N'],M3_NN['3N']]\n",
    "fig = plt.figure(figsize=(6,6))\n",
    "ax = fig.add_axes([0,0,1,1])\n",
    "ax.bar(X_points, a_data, color = 'b', width = 0.25)\n",
    "ax.bar(X_points+0.25, b_data, color = 'g', width = 0.25)\n",
    "ax.set_ylabel('Accuracy',fontsize=20)\n",
    "ax.set_title(\"Barplot of Metrics M1 M2 and M3 on both Neural Network models\",fontsize=16)\n",
    "ax.set_xticks(X_points+0.12)\n",
    "ax.set_xticklabels(labels=['Training(M1)','Validation(M2)','Test(M3)'])\n",
    "ax.legend(['2 Layered','3 Layered'],prop={'size': 10})\n",
    "\n",
    "X_points = np.arange(1)\n",
    "fig2 = plt.figure(figsize=(6,6))                           \n",
    "ax2 = fig2.add_axes([0,0,1,1])\n",
    "ax2.bar(X_points, M4_NN['2N'], color = 'b', width = 0.25)\n",
    "ax2.bar(X_points+0.25, M4_NN['3N'], color = 'g', width = 0.25)\n",
    "ax2.set_ylabel('Time(sec)',fontsize=20)\n",
    "ax2.set_title(\"Barplot of Metrics M4 on both Neural Network models\",fontsize=16)\n",
    "ax2.set_xticks(X_points+0.12)\n",
    "ax2.set_xticklabels(labels=['Training Time(M4)'])\n",
    "ax2.legend(['2 Layered','3 Layered'],prop={'size': 10})"
   ]
  },
  {
   "cell_type": "markdown",
   "id": "4c5bd426",
   "metadata": {},
   "source": [
    "1. Experimenting with different CNN models, noticed that increasing the convolution layers results in increased accuracy and while removing pooling layers results in much lower accuray along with much higher training times\n",
    "2. Also Noticed that between the two neural networks the models with 2Convolution Layers and 2 Fully connected layers have a higher accuracy score and lower training time compared to the 3 Convultion Layer and 3 Fully connected layer Neural Neteworks"
   ]
  },
  {
   "cell_type": "code",
   "execution_count": null,
   "id": "21874733",
   "metadata": {},
   "outputs": [],
   "source": []
  }
 ],
 "metadata": {
  "kernelspec": {
   "display_name": "Python 3 (ipykernel)",
   "language": "python",
   "name": "python3"
  },
  "language_info": {
   "codemirror_mode": {
    "name": "ipython",
    "version": 3
   },
   "file_extension": ".py",
   "mimetype": "text/x-python",
   "name": "python",
   "nbconvert_exporter": "python",
   "pygments_lexer": "ipython3",
   "version": "3.9.7"
  }
 },
 "nbformat": 4,
 "nbformat_minor": 5
}
